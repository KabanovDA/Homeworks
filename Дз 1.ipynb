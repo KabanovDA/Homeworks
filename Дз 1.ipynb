{
 "cells": [
  {
   "cell_type": "code",
   "execution_count": 5,
   "id": "b5434b2d",
   "metadata": {
    "scrolled": true
   },
   "outputs": [],
   "source": [
    "class Test:\n",
    "    @staticmethod\n",
    "    def assert_equals(a, b, *args, **kwargs):\n",
    "        assert a == b\n",
    "        print('Passed')"
   ]
  },
  {
   "cell_type": "markdown",
   "id": "6c68274d",
   "metadata": {},
   "source": [
    "/problem https://edabit.com/challenge/cXnkmRdxqJrwdsP4n (1)/# "
   ]
  },
  {
   "cell_type": "code",
   "execution_count": 7,
   "id": "213e6e05",
   "metadata": {},
   "outputs": [
    {
     "name": "stdout",
     "output_type": "stream",
     "text": [
      "Passed\n",
      "Passed\n",
      "Passed\n",
      "Passed\n",
      "Passed\n"
     ]
    }
   ],
   "source": [
    "def dis(price, discount):\n",
    "\treturn price*(100-discount)/100\n",
    "Test.assert_equals(dis(100, 75), 25)\n",
    "Test.assert_equals(dis(211, 50), 105.5)\n",
    "Test.assert_equals(dis(593, 61), 231.27)\n",
    "Test.assert_equals(dis(1693, 80), 338.6)\n",
    "Test.assert_equals(dis(700, 10), 630)"
   ]
  },
  {
   "cell_type": "markdown",
   "id": "b1212ee6",
   "metadata": {},
   "source": [
    "/problem https://edabit.com/challenge/4me7LifXBwj5rhL4n (1)/"
   ]
  },
  {
   "cell_type": "code",
   "execution_count": 8,
   "id": "4a9adce9",
   "metadata": {},
   "outputs": [
    {
     "name": "stdout",
     "output_type": "stream",
     "text": [
      "Passed\n",
      "Passed\n",
      "Passed\n",
      "Passed\n",
      "Passed\n",
      "Passed\n"
     ]
    }
   ],
   "source": [
    "import math\n",
    "def circle_or_square(rad, area):\n",
    "\tif 2*3.14*rad>math.sqrt(area)*4:\n",
    "\t\treturn True\n",
    "\telse:\n",
    "\t\treturn False\n",
    "Test.assert_equals(circle_or_square(16, 625), True)\n",
    "Test.assert_equals(circle_or_square(8, 144), True)\n",
    "Test.assert_equals(circle_or_square(15, 400), True)\n",
    "Test.assert_equals(circle_or_square(5, 100), False)\n",
    "Test.assert_equals(circle_or_square(18, 900), False)\n",
    "Test.assert_equals(circle_or_square(1, 4), False)"
   ]
  },
  {
   "cell_type": "markdown",
   "id": "8e82433d",
   "metadata": {},
   "source": [
    "problem https://edabit.com/challenge/FF6kYPHdAcJnoosr5 (1)"
   ]
  },
  {
   "cell_type": "code",
   "execution_count": 11,
   "id": "5c135d71",
   "metadata": {},
   "outputs": [
    {
     "name": "stdout",
     "output_type": "stream",
     "text": [
      "Passed\n",
      "Passed\n",
      "Passed\n",
      "Passed\n",
      "Passed\n"
     ]
    }
   ],
   "source": [
    "def factorial(num):\n",
    "\tif num==0:\n",
    "\t\treturn 1\n",
    "\telse:\n",
    "\t\treturn factorial(num-1)*num\n",
    "Test.assert_equals(factorial(2), 2)\n",
    "Test.assert_equals(factorial(6), 720)\n",
    "Test.assert_equals(factorial(3), 6)\n",
    "Test.assert_equals(factorial(12), 479001600)\n",
    "Test.assert_equals(factorial(5), 120)"
   ]
  },
  {
   "cell_type": "code",
   "execution_count": null,
   "id": "8d88f658",
   "metadata": {},
   "outputs": [],
   "source": [
    " problem https://edabit.com/challenge/2bTdN8sr3PQKkLHur (2)\n"
   ]
  },
  {
   "cell_type": "code",
   "execution_count": 13,
   "id": "0fadd347",
   "metadata": {},
   "outputs": [
    {
     "name": "stdout",
     "output_type": "stream",
     "text": [
      "Passed\n",
      "Passed\n",
      "Passed\n",
      "Passed\n",
      "Passed\n",
      "Passed\n"
     ]
    }
   ],
   "source": [
    "def divisible_by_b(a, b):\n",
    "\treturn a+(b-(a%b))\n",
    "Test.assert_equals(divisible_by_b(17, 8), 24)\n",
    "Test.assert_equals(divisible_by_b(98, 3), 99)\n",
    "Test.assert_equals(divisible_by_b(14, 11), 22)\n",
    "Test.assert_equals(divisible_by_b(11, 8), 16)\n",
    "Test.assert_equals(divisible_by_b(450, 36), 468)\n",
    "Test.assert_equals(divisible_by_b(1019, 13), 1027)"
   ]
  },
  {
   "cell_type": "markdown",
   "id": "fe7957b4",
   "metadata": {},
   "source": [
    "problem https://edabit.com/challenge/2zKetgAJp4WRFXiDT (2)"
   ]
  },
  {
   "cell_type": "code",
   "execution_count": 15,
   "id": "3fd74b18",
   "metadata": {},
   "outputs": [
    {
     "name": "stdout",
     "output_type": "stream",
     "text": [
      "Passed\n",
      "Passed\n",
      "Passed\n",
      "Passed\n",
      "Passed\n",
      "Passed\n",
      "Passed\n"
     ]
    }
   ],
   "source": [
    "def number_length(num):\n",
    "\tif num<10:\n",
    "\t\treturn 1\n",
    "\telse:\n",
    "\t\treturn number_length(num//10)+1\n",
    "Test.assert_equals(number_length(10), 2)\n",
    "Test.assert_equals(number_length(5000), 4)\n",
    "Test.assert_equals(number_length(0), 1)\n",
    "Test.assert_equals(number_length(4039182), 7)\n",
    "Test.assert_equals(number_length(9999999999999999), 16)\n",
    "Test.assert_equals(number_length(1), 1)\n",
    "Test.assert_equals(number_length(777777777777777777777777777777), 30)"
   ]
  },
  {
   "cell_type": "markdown",
   "id": "11b089e8",
   "metadata": {},
   "source": [
    "problem https://edabit.com/challenge/o2AKq4xy3nfZabKXL (2)"
   ]
  },
  {
   "cell_type": "code",
   "execution_count": 16,
   "id": "65c942af",
   "metadata": {},
   "outputs": [
    {
     "name": "stdout",
     "output_type": "stream",
     "text": [
      "Passed\n",
      "Passed\n",
      "Passed\n",
      "Passed\n",
      "Passed\n",
      "Passed\n",
      "Passed\n"
     ]
    }
   ],
   "source": [
    "def solutions(a, b, c):\n",
    "\tif b*b-4*a*c>0:\n",
    "\t\treturn 2\n",
    "\telif b*b-4*a*c==0:\n",
    "\t\treturn 1\n",
    "\telse:\n",
    "\t\treturn 0 \n",
    "Test.assert_equals(solutions(1, 0, -1), 2)\n",
    "Test.assert_equals(solutions(1, 0, 0), 1)\n",
    "Test.assert_equals(solutions(1, 0, 1), 0)\n",
    "Test.assert_equals(solutions(200, 420, 800), 0)\n",
    "Test.assert_equals(solutions(200, 420, -800), 2)\n",
    "Test.assert_equals(solutions(1000, 1000, 0), 2)\n",
    "Test.assert_equals(solutions(10000, 400, 4), 1)"
   ]
  },
  {
   "cell_type": "markdown",
   "id": "610121c2",
   "metadata": {},
   "source": [
    "problem https://edabit.com/challenge/KWoj7kWiHRqJtG6S2 (3)"
   ]
  },
  {
   "cell_type": "code",
   "execution_count": 17,
   "id": "c4c882a5",
   "metadata": {},
   "outputs": [
    {
     "name": "stdout",
     "output_type": "stream",
     "text": [
      "Passed\n",
      "Passed\n",
      "Passed\n",
      "Passed\n"
     ]
    }
   ],
   "source": [
    "def remainder(x, y):\n",
    "\treturn x%y\n",
    "Test.assert_equals(remainder(7, 2), 1)\n",
    "Test.assert_equals(remainder(3, 4), 3)\n",
    "Test.assert_equals(remainder(5, 5), 0)\n",
    "Test.assert_equals(remainder(1, 3), 1)"
   ]
  },
  {
   "cell_type": "markdown",
   "id": "c12d6222",
   "metadata": {},
   "source": [
    "problem https://edabit.com/challenge/Y5Ji2HDnQTX7MxeHt (3)"
   ]
  },
  {
   "cell_type": "code",
   "execution_count": 18,
   "id": "f0c495a1",
   "metadata": {},
   "outputs": [
    {
     "name": "stdout",
     "output_type": "stream",
     "text": [
      "Passed\n",
      "Passed\n",
      "Passed\n",
      "Passed\n",
      "Passed\n",
      "Passed\n",
      "Passed\n",
      "Passed\n",
      "Passed\n"
     ]
    }
   ],
   "source": [
    "def snakefill(n):\n",
    "\ti = 1\n",
    "\twhile pow(2,i)<=n*n:\n",
    "\t\ti += 1\n",
    "\treturn i-1\n",
    "Test.assert_equals(snakefill(3), 3)\n",
    "Test.assert_equals(snakefill(6), 5)\n",
    "Test.assert_equals(snakefill(24), 9)\n",
    "Test.assert_equals(snakefill(8), 6)\n",
    "Test.assert_equals(snakefill(18), 8)\n",
    "Test.assert_equals(snakefill(555), 18)\n",
    "Test.assert_equals(snakefill(2), 2)\n",
    "Test.assert_equals(snakefill(1), 0)\n",
    "Test.assert_equals(snakefill(900), 19)"
   ]
  },
  {
   "cell_type": "code",
   "execution_count": null,
   "id": "a98f0836",
   "metadata": {},
   "outputs": [],
   "source": []
  }
 ],
 "metadata": {
  "kernelspec": {
   "display_name": "Python 3 (ipykernel)",
   "language": "python",
   "name": "python3"
  },
  "language_info": {
   "codemirror_mode": {
    "name": "ipython",
    "version": 3
   },
   "file_extension": ".py",
   "mimetype": "text/x-python",
   "name": "python",
   "nbconvert_exporter": "python",
   "pygments_lexer": "ipython3",
   "version": "3.9.13"
  }
 },
 "nbformat": 4,
 "nbformat_minor": 5
}
